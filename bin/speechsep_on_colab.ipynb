{
  "nbformat": 4,
  "nbformat_minor": 0,
  "metadata": {
    "colab": {
      "provenance": []
    },
    "kernelspec": {
      "name": "python3",
      "display_name": "Python 3"
    },
    "language_info": {
      "name": "python"
    },
    "accelerator": "GPU",
    "gpuClass": "standard"
  },
  "cells": [
    {
      "cell_type": "code",
      "execution_count": null,
      "metadata": {
        "id": "Zn8kPj6L6xp2"
      },
      "outputs": [],
      "source": [
        "!git clone https://github.com/DominikStiller/dtu-speechsep.git\n",
        "%cd dtu-speechsep"
      ]
    },
    {
      "cell_type": "code",
      "source": [
        "!sudo apt-get update -y\n",
        "!sudo apt-get install python3.9 python3.9-dev python3.9-distutils\n",
        "!sudo update-alternatives --install /usr/bin/python3 python3 /usr/bin/python3.7 1\n",
        "!sudo update-alternatives --install /usr/bin/python3 python3 /usr/bin/python3.9 2\n",
        "!python --version"
      ],
      "metadata": {
        "id": "plqBXW0C7nzC"
      },
      "execution_count": null,
      "outputs": []
    },
    {
      "cell_type": "code",
      "source": [
        "!curl https://bootstrap.pypa.io/get-pip.py -o get-pip.py\n",
        "!python3.9 get-pip.py\n",
        "!pip install --upgrade setuptools distlib pip wheel Cmake\n",
        "!pip install -r requirements.txt"
      ],
      "metadata": {
        "id": "laHywEgf7K0b"
      },
      "execution_count": null,
      "outputs": []
    },
    {
      "cell_type": "code",
      "source": [
        "!python -m speechsep --help"
      ],
      "metadata": {
        "id": "-0QJ7IrF64l5"
      },
      "execution_count": null,
      "outputs": []
    },
    {
      "cell_type": "code",
      "source": [
        "%%shell\n",
        "\n",
        "python -m speechsep train \\\n",
        "  --dataset sinusoid \\\n",
        "  --sinusoid-n-examples 2048 \\\n",
        "  --gpu \\\n",
        "  --batch-size 32"
      ],
      "metadata": {
        "id": "DfMGCdjh_uk9"
      },
      "execution_count": null,
      "outputs": []
    }
  ]
}